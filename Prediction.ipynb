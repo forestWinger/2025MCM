{
 "cells": [
  {
   "cell_type": "markdown",
   "metadata": {},
   "source": [
    "## Problem 1"
   ]
  },
  {
   "cell_type": "code",
   "execution_count": 365,
   "metadata": {},
   "outputs": [
    {
     "name": "stderr",
     "output_type": "stream",
     "text": [
      "C:\\Users\\Maqin\\AppData\\Local\\Temp\\ipykernel_18068\\1653068871.py:15: FutureWarning: Downcasting object dtype arrays on .fillna, .ffill, .bfill is deprecated and will change in a future version. Call result.infer_objects(copy=False) instead. To opt-in to the future behavior, set `pd.set_option('future.no_silent_downcasting', True)`\n",
      "  A_data = {year: df.fillna(0) for year, df in A_data.items()}\n",
      "C:\\Users\\Maqin\\AppData\\Local\\Temp\\ipykernel_18068\\1653068871.py:16: FutureWarning: Downcasting object dtype arrays on .fillna, .ffill, .bfill is deprecated and will change in a future version. Call result.infer_objects(copy=False) instead. To opt-in to the future behavior, set `pd.set_option('future.no_silent_downcasting', True)`\n",
      "  Pn_data = {year: df.fillna(0) for year, df in Pn_data.items()}\n"
     ]
    }
   ],
   "source": [
    "import pickle\n",
    "import pandas as pd\n",
    "\n",
    "# 加载 pickle 文件中的数据\n",
    "with open('./dataset/probability_matrices.pkl', 'rb') as f:\n",
    "    A_data = pickle.load(f)\n",
    "\n",
    "with open('./dataset/number_matrices.pkl', 'rb') as f:\n",
    "    Pn_data = pickle.load(f)\n",
    "\n",
    "# 加载东道主变量, csv 文件中的数据\n",
    "host_data = pd.read_csv('./dataset/host_or_not.csv', index_col=0)\n",
    "\n",
    "# 填充 A 和 Pn 数据中的缺失值为 0\n",
    "A_data = {year: df.fillna(0) for year, df in A_data.items()}\n",
    "Pn_data = {year: df.fillna(0) for year, df in Pn_data.items()}\n",
    "\n",
    "stable_countries = [\n",
    "    \"AUS\", \"BRA\", \"CAN\", \"DEN\", \"FIN\", \"FRA\", \"GER\", \"GBR\", \n",
    "    \"HUN\", \"IRI\", \"ITA\", \"JPN\", \"NED\", \"NZL\", \"KOR\", \"ESP\", \n",
    "    \"USA\", \"CHN\", \"ARG\", \"AUT\", \"BEL\", \"BUL\", \"CUB\", \n",
    "    \"GRE\", \"IND\", \"JAM\", \"MEX\", \"NOR\", \n",
    "    \"POL\", \"POR\", \"ROU\", \"RSA\", \"SWE\", \n",
    "    \"SUI\", \"TUR\", \"URS\", \"RUS\"\n",
    "]\n",
    "\n",
    "# 选择稳定国家的数据\n",
    "A_data = {year: df.loc[stable_countries] for year, df in A_data.items()}\n",
    "Pn_data = {year: df.loc[stable_countries] for year, df in Pn_data.items()}\n",
    "\n"
   ]
  },
  {
   "cell_type": "code",
   "execution_count": 351,
   "metadata": {},
   "outputs": [
    {
     "name": "stdout",
     "output_type": "stream",
     "text": [
      "dict_keys([1896, 1900, 1904, 1906, 1908, 1912, 1920, 1924, 1928, 1932, 1936, 1948, 1952, 1956, 1960, 1964, 1968, 1972, 1976, 1980, 1984, 1988, 1992, 1996, 2000, 2004, 2008, 2012, 2016, 2020, 2024])\n",
      "dict_keys([1896, 1900, 1904, 1906, 1908, 1912, 1920, 1924, 1928, 1932, 1936, 1948, 1952, 1956, 1960, 1964, 1968, 1972, 1976, 1980, 1984, 1988, 1992, 1996, 2000, 2004, 2008, 2012, 2016, 2020, 2024])\n"
     ]
    }
   ],
   "source": [
    "# 打印年份\n",
    "print(A_data.keys())\n",
    "print(Pn_data.keys())"
   ]
  },
  {
   "cell_type": "code",
   "execution_count": 353,
   "metadata": {},
   "outputs": [],
   "source": [
    "import numpy as np\n",
    "import pandas as pd\n",
    "\n",
    "# 假设 A_data 和 Pn_data 仍然是字典，键是年份，值是 DataFrame\n",
    "# 获取年份的列表（假设数据中年份是离散的）\n",
    "years = sorted(A_data.keys())  # 按索引排序年份\n",
    "\n",
    "# 计算特征矩阵 X 和目标矩阵 y\n",
    "X = []  # 存储特征\n",
    "y = []  # 存储目标\n",
    "\n",
    "# 按年份索引处理数据\n",
    "for i in range(3, len(years)):  # 从第二年开始处理\n",
    "    year_prev = years[i - 1]  # 前一届\n",
    "    year_curr = years[i]  # 当前届\n",
    "    \n",
    "    # 获取前一届和当前届的 A 和 Pn 数据\n",
    "    A_prev_1 = A_data[year_prev]\n",
    "    A_curr = A_data[year_curr]\n",
    "    Pn_prev_1 = Pn_data[year_prev]\n",
    "    Pn_curr = Pn_data[year_curr]\n",
    "    \n",
    "    # 计算参赛人数差（Pn - Pn'）\n",
    "    Pn_diff_1 = Pn_curr - Pn_prev_1\n",
    "    Pn_diff_1 = Pn_diff_1.values.flatten()\n",
    "\n",
    "    '''#将Pn_diff标准化\n",
    "    Pn_diff_1 = (Pn_diff_1 - np.mean(Pn_diff_1)) / np.std(Pn_diff)'''\n",
    "    \n",
    "    # 获取前三届获奖比例的平均值\n",
    "    A_prev_3 = (A_data[years[i - 3]] + A_data[years[i - 2]] + A_data[years[i - 1]]) / 3\n",
    "    A_prev_3 = A_prev_3.values.flatten()\n",
    "    \n",
    "    # 获取当前参赛人数和前三届平均参赛人数的差\n",
    "    Pn_diff_3 = Pn_curr - (Pn_data[years[i - 3]] + Pn_data[years[i - 2]] + Pn_data[years[i - 1]]) / 3\n",
    "    Pn_diff_3 = Pn_diff_3.values.flatten()\n",
    "\n",
    "    # 将特征（上一年的获奖比例和参赛人数差）展平并加入 X\n",
    "    X.append(np.concatenate([A_prev_1.values.flatten(), Pn_diff_1, A_prev_3, Pn_diff_3, host_data[str(year_curr)].values.repeat(55)]))\n",
    "    \n",
    "    # 将当前年获奖比例展平并加入 y\n",
    "    y.append(A_curr.values.flatten())\n",
    "\n",
    "# 转换为 numpy 数组，便于后续处理\n",
    "X = np.array(X)\n",
    "y = np.array(y)\n"
   ]
  },
  {
   "cell_type": "code",
   "execution_count": 354,
   "metadata": {},
   "outputs": [],
   "source": [
    "from sklearn.model_selection import train_test_split\n",
    "\n",
    "# 按照时间顺序划分训练集和测试集\n",
    "train_idx, test_idx = train_test_split(np.arange(len(years)-3), test_size=0.1, shuffle=True)\n",
    "\n",
    "# 根据索引划分训练集和测试集\n",
    "X_train, X_test = X[train_idx], X[test_idx]\n",
    "y_train, y_test = y[train_idx], y[test_idx]"
   ]
  },
  {
   "cell_type": "code",
   "execution_count": 355,
   "metadata": {},
   "outputs": [
    {
     "name": "stdout",
     "output_type": "stream",
     "text": [
      "[12 22 10 23  0 24  4 14 20 25 18 27 19  8 11  9  7  6 26  1 13 21  3  5\n",
      "  2]\n",
      "[15 16 17]\n"
     ]
    }
   ],
   "source": [
    "print(train_idx)\n",
    "print(test_idx)"
   ]
  },
  {
   "cell_type": "code",
   "execution_count": 356,
   "metadata": {},
   "outputs": [
    {
     "name": "stdout",
     "output_type": "stream",
     "text": [
      "MAE: 0.0129\n",
      "MSE: 0.0039\n"
     ]
    }
   ],
   "source": [
    "from sklearn.multioutput import MultiOutputRegressor\n",
    "import xgboost as xgb\n",
    "from sklearn.metrics import mean_squared_error\n",
    "\n",
    "# 构建 DMatrix（XGBoost 使用的数据格式）\n",
    "dtrain = xgb.DMatrix(X_train, label=y_train)\n",
    "dtest = xgb.DMatrix(X_test, label=y_test)\n",
    "\n",
    "xgb_model = xgb.XGBRegressor(objective='reg:squarederror', n_estimators=100, max_depth=5, learning_rate=0.01)\n",
    "# xgb_model = xgb.XGBRegressor(objective='reg:absoluteerror', n_estimators=100, max_depth=3, learning_rate=0.01)\n",
    "multi_output_model = MultiOutputRegressor(xgb_model)\n",
    "\n",
    "# 训练模型\n",
    "multi_output_model.fit(X_train, y_train)\n",
    "\n",
    "# 预测\n",
    "y_pred = multi_output_model.predict(X_test)\n",
    "\n",
    "# 评估模型，使用mae\n",
    "mae = np.mean(np.abs(y_test - y_pred))\n",
    "print(f'MAE: {mae:.4f}')\n",
    "\n",
    "# 评估模型，使用mse\n",
    "mse = mean_squared_error(y_test, y_pred)\n",
    "print(f'MSE: {mse:.4f}')\n"
   ]
  },
  {
   "cell_type": "code",
   "execution_count": 357,
   "metadata": {},
   "outputs": [
    {
     "name": "stdout",
     "output_type": "stream",
     "text": [
      "Number of rows: 37, number of columns: 55\n"
     ]
    }
   ],
   "source": [
    "N, M = A_curr.shape\n",
    "print(f\"Number of rows: {N}, number of columns: {M}\")"
   ]
  },
  {
   "cell_type": "code",
   "execution_count": 358,
   "metadata": {},
   "outputs": [],
   "source": [
    "y_pred = multi_output_model.predict(X)"
   ]
  },
  {
   "cell_type": "code",
   "execution_count": 359,
   "metadata": {},
   "outputs": [
    {
     "name": "stdout",
     "output_type": "stream",
     "text": [
      "(28, 2035)\n"
     ]
    }
   ],
   "source": [
    "print(y_pred.shape)"
   ]
  },
  {
   "cell_type": "code",
   "execution_count": 360,
   "metadata": {},
   "outputs": [
    {
     "name": "stdout",
     "output_type": "stream",
     "text": [
      "(55, 28)\n"
     ]
    }
   ],
   "source": [
    "import dataprocess\n",
    "programms_num = dataprocess.get_programms_num()\n",
    "programms_num = programms_num.iloc[:, 3:].to_numpy()\n",
    "programms_num = np.nan_to_num(programms_num)\n",
    "print(programms_num.shape)"
   ]
  },
  {
   "cell_type": "code",
   "execution_count": 361,
   "metadata": {},
   "outputs": [],
   "source": [
    "import pandas as pd\n",
    "# 通过向量内积保存每一年各个国家预测金牌数和实际金牌数\n",
    "for i in range(len(years) - 3):\n",
    "    predict_gold_medals = np.dot(y_pred[i].reshape(N, M) , programms_num[:, i])\n",
    "    actual_gold_medals = np.dot(y[i].reshape(N, M) , programms_num[:, i])\n",
    "    # print(f\"Predicted gold medals: {predict_gold_medals}\")\n",
    "    # print(f\"Actual gold medals: {actual_gold_medals}\")\n",
    "    # 转换为DataFrame后前面加上国家名\n",
    "    predict_gold_medals = pd.DataFrame(predict_gold_medals, index=stable_countries, columns=['Predicted gold medals'])\n",
    "    actual_gold_medals = pd.DataFrame(actual_gold_medals, index=stable_countries, columns=['Actual gold medals'])\n",
    "    # 合并为一个DataFrame\n",
    "    result = pd.concat([predict_gold_medals, actual_gold_medals], axis=1)\n",
    "    # 保存为csv文件\n",
    "    result.to_csv(f'./output/{years[i+3]}.csv')\n",
    "    "
   ]
  },
  {
   "cell_type": "code",
   "execution_count": 362,
   "metadata": {},
   "outputs": [
    {
     "name": "stdout",
     "output_type": "stream",
     "text": [
      "[1.99686098 0.62000541 1.16760358 0.59628648 1.74925253 1.70629626\n",
      " 3.20960899 3.81599768 1.56271084 0.41746456 1.59341469 2.02291369\n",
      " 1.34861782 0.89298724 1.59118664 0.8183556  6.06908256 4.75264066\n",
      " 0.5912174  0.47906445 0.75303366 1.09666261 1.61131802 0.63821098\n",
      " 0.23842506 0.50961005 0.3575473  0.65547168 1.03240883 0.14564578\n",
      " 1.57976386 0.55363335 2.60435262 0.77909    0.79171757 9.58407479\n",
      " 3.27894253]\n",
      "63.211476769792036\n"
     ]
    }
   ],
   "source": [
    "# 计算每年的预测金牌数和实际金牌数的平均绝对误差\n",
    "mae = 0\n",
    "\n",
    "for i in range(len(years) - 3):\n",
    "    predict_gold_medals = np.dot(y_pred[i].reshape(N, M) , programms_num[:, i])\n",
    "    actual_gold_medals = np.dot(y[i].reshape(N, M) , programms_num[:, i])\n",
    "    mae += np.abs(predict_gold_medals - actual_gold_medals)\n",
    "\n",
    "mae /= len(years) - 3\n",
    "print(mae)\n",
    "\n",
    "# 累加mae\n",
    "mae = mae.sum()\n",
    "print(mae)"
   ]
  },
  {
   "cell_type": "code",
   "execution_count": 367,
   "metadata": {},
   "outputs": [],
   "source": [
    "A_prev_1 = A_data[years[-1]]\n",
    "# 假设Pn_diff_1为0\n",
    "Pn_diff_1 = np.zeros((N, M))\n",
    "\n",
    "\n",
    "# 获取前三届获奖比例的平均值\n",
    "A_prev_3 = (A_data[years[-3]] + A_data[years[-2]] + A_data[years[-1]]) / 3\n",
    "A_prev_3 = A_prev_3.values.flatten()\n",
    "\n",
    "# 获取当前参赛人数和前三届平均参赛人数的差\n",
    "Pn_diff_3 = Pn_data[years[-1]] - (Pn_data[years[-3]] + Pn_data[years[-2]] + Pn_data[years[-1]]) / 3\n",
    "Pn_diff_3 = Pn_diff_3.values.flatten()"
   ]
  },
  {
   "cell_type": "code",
   "execution_count": 389,
   "metadata": {},
   "outputs": [],
   "source": [
    "X_2028 = np.concatenate([A_prev_1.values.flatten(), Pn_diff_1.flatten(), A_prev_3, Pn_diff_3, host_data[str(2028)].values.repeat(55)])"
   ]
  },
  {
   "cell_type": "code",
   "execution_count": 390,
   "metadata": {},
   "outputs": [
    {
     "name": "stdout",
     "output_type": "stream",
     "text": [
      "[ 7.11477427  1.27725502  1.61885967  2.06566824  2.36208705  9.29302265\n",
      "  8.86783601 10.52995394  6.38128311  0.3365656   8.6567872   9.70870752\n",
      "  4.61418534  2.44175125  4.36381181  1.01021025 44.482565   22.38022032\n",
      "  0.76208463  0.60444325  1.52826564  1.99341381  1.143099    0.59739402\n",
      "  0.24670955  3.17419982  0.13527607  2.37294287  2.37836276  0.4831005\n",
      "  2.81071224  0.55609922  5.66204702  1.08207111  0.66617952  5.41978842\n",
      "  4.10668499]\n"
     ]
    }
   ],
   "source": [
    "# 预测2028年的金牌数\n",
    "y_2028 = multi_output_model.predict([X_2028])\n",
    "y_2028 = y_2028.reshape(N, M)\n",
    "\n",
    "programms_num_2028 = dataprocess.get_programms_num().iloc[:, -1].to_numpy()\n",
    "programms_num_2028 = np.nan_to_num(programms_num_2028)\n",
    "\n",
    "predict_gold_medals_2028 = np.dot(y_2028, programms_num_2028)\n",
    "print(predict_gold_medals_2028)\n"
   ]
  },
  {
   "cell_type": "code",
   "execution_count": 388,
   "metadata": {},
   "outputs": [],
   "source": [
    "# 保存predict_gold_medals_2028\n",
    "predict_gold_medals_2028 = pd.DataFrame(predict_gold_medals_2028, index=stable_countries, columns=['Predicted gold medals'])\n",
    "predict_gold_medals_2028.to_csv(f'./output/2028_predict_gold_medals.csv')"
   ]
  },
  {
   "cell_type": "code",
   "execution_count": 391,
   "metadata": {},
   "outputs": [],
   "source": [
    "# y_2028中，若对应programms_num_2028的值为0，则将预测金牌比例置为0\n",
    "for i in range(len(programms_num_2028)):\n",
    "    if programms_num_2028[i] == 0:\n",
    "        y_2028[:, i] = 0"
   ]
  },
  {
   "cell_type": "code",
   "execution_count": 393,
   "metadata": {},
   "outputs": [
    {
     "name": "stdout",
     "output_type": "stream",
     "text": [
      "[ 7.11477427  1.27725502  1.61885967  2.06566824  2.36208705  9.29302265\n",
      "  8.86783601 10.52995394  6.38128311  0.3365656   8.6567872   9.70870752\n",
      "  4.61418534  2.44175125  4.36381181  1.01021025 44.482565   22.38022032]\n"
     ]
    }
   ],
   "source": [
    "predict_gold_medals_2028 = np.dot(y_2028, programms_num_2028)\n",
    "print(predict_gold_medals_2028)"
   ]
  },
  {
   "cell_type": "code",
   "execution_count": 392,
   "metadata": {},
   "outputs": [],
   "source": [
    "# 只要前17行\n",
    "y_2028 = y_2028[:18]\n",
    "\n",
    "# 将y_2028转换为dataframe保存入csv文件\n",
    "y_2028 = pd.DataFrame(y_2028)\n",
    "y_2028.to_csv(f'./output/2028_change.csv')\n"
   ]
  }
 ],
 "metadata": {
  "kernelspec": {
   "display_name": "base",
   "language": "python",
   "name": "python3"
  },
  "language_info": {
   "codemirror_mode": {
    "name": "ipython",
    "version": 3
   },
   "file_extension": ".py",
   "mimetype": "text/x-python",
   "name": "python",
   "nbconvert_exporter": "python",
   "pygments_lexer": "ipython3",
   "version": "3.11.7"
  }
 },
 "nbformat": 4,
 "nbformat_minor": 2
}
